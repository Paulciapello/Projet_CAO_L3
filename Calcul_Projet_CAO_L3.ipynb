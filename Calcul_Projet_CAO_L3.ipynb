{
 "cells": [
  {
   "cell_type": "markdown",
   "id": "d6728f0d",
   "metadata": {},
   "source": [
    "# Calcul/Analyse préconception système vanne\n",
    "\n",
    "Le thème d'etude est la vanne de prise d'air d'un avion de ligne.\n",
    "Nous souhaitons motoriser ce système à l'aide d'un actionneur linéaire à l'aide d'un vérin électrique.Voir si dessous:\n",
    "\n",
    "\n",
    "Image\n",
    "\n",
    "Nous devons donc:\n",
    "- Choisir une architecture pour le dispositif de commande \n",
    "- Choisir un actionneur \n",
    "- Faire la maquette numérique de notre conception\n",
    "\n",
    "Mais avant toute chose nous devons faire une analyse de préconception en:\n",
    "- Calculant le degré d'hyperstatisme de ce mécanisme\n",
    "- Ecrivant les deux équations scalaires issues de la fermeture géometrique du système et en déterminer la loi entrée/sortie de ce mécanisme \n",
    "- Estimant l'effort aérodynamique de la pièce 2, en position fermée"
   ]
  },
  {
   "cell_type": "markdown",
   "id": "1eb3435a",
   "metadata": {},
   "source": [
    "## Shéma cinématique:\n",
    "\n",
    "\n",
    "Image\n",
    "\n",
    "\n"
   ]
  },
  {
   "cell_type": "markdown",
   "id": "48ae07d9",
   "metadata": {},
   "source": [
    "## Hyperstatisme:"
   ]
  },
  {
   "cell_type": "markdown",
   "id": "a56276c6",
   "metadata": {},
   "source": [
    "### degrée mobilité:"
   ]
  },
  {
   "cell_type": "code",
   "execution_count": 13,
   "id": "a2ef6611",
   "metadata": {},
   "outputs": [
    {
     "name": "stdout",
     "output_type": "stream",
     "text": [
      "Le degrée de mobilité du mécanisme plan est de 1\n"
     ]
    }
   ],
   "source": [
    "import math\n",
    "from sympy import Symbol, Eq, solve\n",
    "\n",
    "\"\"\" Mécanisme Plan \"\"\"\n",
    "\n",
    "Np = 4                          # nb de pièce avec bati\n",
    "NL1 = 4                        # nb de liaisons à 1 degré de liberté\n",
    "NL2 = 0                        # nb de liaisons à 1 degré de liberté\n",
    "\n",
    "mu = 3*(Np-1)-2*NL1-2*NL2\n",
    "\n",
    "print(f\"Le degrée de mobilité du mécanisme plan est de {mu}\")"
   ]
  },
  {
   "cell_type": "markdown",
   "id": "f0d7aa85",
   "metadata": {},
   "source": [
    "### degrée d'hyperstatisme:"
   ]
  },
  {
   "cell_type": "code",
   "execution_count": 7,
   "id": "7dec7e59",
   "metadata": {},
   "outputs": [
    {
     "name": "stdout",
     "output_type": "stream",
     "text": [
      "Le degrée d'hyperstatisme du mécanisme plan est de 3\n"
     ]
    }
   ],
   "source": [
    "Es = 6*(Np-1)\n",
    "S = 4*5\n",
    "me = Es-S\n",
    "h = mu-me\n",
    "\n",
    "print(f\"Le degrée d'hyperstatisme du mécanisme plan est de {h}\")"
   ]
  },
  {
   "cell_type": "markdown",
   "id": "846c45da",
   "metadata": {},
   "source": [
    "## Loi entrée/sortie \n",
    "Voici le shéma qui represente les angle et blablabla:\n",
    "\n",
    "\n",
    "Image\n",
    "\n",
    "\n",
    "Nous cherchons donc à déterminé theta_4 par rapport à theta_2"
   ]
  },
  {
   "cell_type": "markdown",
   "id": "92766bd2",
   "metadata": {},
   "source": [
    "### Equation scalaire de fermeture:\n",
    "\n",
    "vect_OA + vect_AB + vect_BC + vect_CO = vect_nul\n",
    "\n",
    "ce qui implique:\n",
    "\n",
    "vect_OC = vect_OA + vect_AB + vect_BC"
   ]
  },
  {
   "cell_type": "markdown",
   "id": "690a8fc3",
   "metadata": {},
   "source": [
    "### Projection en x et y:"
   ]
  },
  {
   "cell_type": "code",
   "execution_count": 15,
   "id": "8a85aec9",
   "metadata": {},
   "outputs": [
    {
     "ename": "SyntaxError",
     "evalue": "cannot assign to literal here. Maybe you meant '==' instead of '='? (1082013113.py, line 9)",
     "output_type": "error",
     "traceback": [
      "\u001b[1;36m  Cell \u001b[1;32mIn[15], line 9\u001b[1;36m\u001b[0m\n\u001b[1;33m    10 = l2*math.cos(theta_2) + l3*math.cos(theta_3) +l4*math.cos(theta_4)\u001b[0m\n\u001b[1;37m    ^\u001b[0m\n\u001b[1;31mSyntaxError\u001b[0m\u001b[1;31m:\u001b[0m cannot assign to literal here. Maybe you meant '==' instead of '='?\n"
     ]
    }
   ],
   "source": [
    "\n",
    "# Donnée d'entrée\n",
    "theta_2 = 40                           # angle d'entrée\n",
    "theta_3 = Symbol('theta_3')            # angle inconnu\n",
    "theta_4 = Symbol('theta_4 ')           # angle de sortie inconnu\n",
    "l2 = 3                                 # longeur l2\n",
    "l3 = 2                                 # longeur l3\n",
    "l4 = 6                                 # longeur l4\n",
    "\n",
    "xc = l2*math.cos(theta_2) + l3*math.cos(theta_3) +l4*math.cos(theta_4)\n",
    "yc = l2*math.sin(theta_2) + l3*math.sin(theta_3) +l4*math.sin(theta_4)"
   ]
  },
  {
   "cell_type": "code",
   "execution_count": null,
   "id": "aa381169",
   "metadata": {},
   "outputs": [],
   "source": []
  }
 ],
 "metadata": {
  "kernelspec": {
   "display_name": "Python 3 (ipykernel)",
   "language": "python",
   "name": "python3"
  },
  "language_info": {
   "codemirror_mode": {
    "name": "ipython",
    "version": 3
   },
   "file_extension": ".py",
   "mimetype": "text/x-python",
   "name": "python",
   "nbconvert_exporter": "python",
   "pygments_lexer": "ipython3",
   "version": "3.11.5"
  }
 },
 "nbformat": 4,
 "nbformat_minor": 5
}
