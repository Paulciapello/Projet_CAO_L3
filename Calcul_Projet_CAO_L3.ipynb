{
 "cells": [
  {
   "cell_type": "markdown",
   "id": "d6728f0d",
   "metadata": {},
   "source": [
    "# Calcul/Analyse préconception système vanne\n",
    "\n",
    "Le thème d'etude est la vanne de prise d'air d'un avion de ligne.\n",
    "Nous souhaitons motoriser ce système à l'aide d'un actionneur linéaire à l'aide d'un vérin électrique.Voir si dessous:\n",
    "\n",
    "\n",
    "Image\n",
    "\n",
    "Nous devons donc:\n",
    "- Choisir une architecture pour le dispositif de commande \n",
    "- Choisir un actionneur \n",
    "- Faire la maquette numérique de notre conception\n",
    "\n",
    "Mais avant toute chose nous devons faire une analyse de préconception en:\n",
    "- Calculant le degré d'hyperstatisme de ce mécanisme\n",
    "- Ecrivant les deux équations scalaires issues de la fermeture géometrique du système et en déterminer la loi entrée/sortie de ce mécanisme \n",
    "- Estimant l'effort aérodynamique de la pièce 2, en position fermée"
   ]
  },
  {
   "cell_type": "markdown",
   "id": "1eb3435a",
   "metadata": {},
   "source": [
    "## Shéma cinématique:\n",
    "\n",
    "\n",
    "Image\n",
    "\n",
    "\n"
   ]
  },
  {
   "cell_type": "markdown",
   "id": "48ae07d9",
   "metadata": {},
   "source": [
    "## Hyperstatisme:"
   ]
  },
  {
   "cell_type": "markdown",
   "id": "a56276c6",
   "metadata": {},
   "source": [
    "### degrée mobilité:"
   ]
  },
  {
   "cell_type": "code",
   "execution_count": 13,
   "id": "a2ef6611",
   "metadata": {},
   "outputs": [
    {
     "name": "stdout",
     "output_type": "stream",
     "text": [
      "Le degrée de mobilité du mécanisme plan est de 1\n"
     ]
    }
   ],
   "source": [
    "import math\n",
    "from sympy import Symbol, Eq, solve\n",
    "\n",
    "\"\"\" Mécanisme Plan \"\"\"\n",
    "\n",
    "Np = 4                          # nb de pièce avec bati\n",
    "NL1 = 4                        # nb de liaisons à 1 degré de liberté\n",
    "NL2 = 0                        # nb de liaisons à 1 degré de liberté\n",
    "\n",
    "mu = 3*(Np-1)-2*NL1-2*NL2\n",
    "\n",
    "print(f\"Le degrée de mobilité du mécanisme plan est de {mu}\")"
   ]
  },
  {
   "cell_type": "markdown",
   "id": "f0d7aa85",
   "metadata": {},
   "source": [
    "### degrée d'hyperstatisme:"
   ]
  },
  {
   "cell_type": "code",
   "execution_count": 7,
   "id": "7dec7e59",
   "metadata": {},
   "outputs": [
    {
     "name": "stdout",
     "output_type": "stream",
     "text": [
      "Le degrée d'hyperstatisme du mécanisme plan est de 3\n"
     ]
    }
   ],
   "source": [
    "Es = 6*(Np-1)\n",
    "S = 4*5\n",
    "me = Es-S\n",
    "h = mu-me\n",
    "\n",
    "print(f\"Le degrée d'hyperstatisme du mécanisme plan est de {h}\")"
   ]
  },
  {
   "cell_type": "markdown",
   "id": "846c45da",
   "metadata": {},
   "source": [
    "## Loi entrée/sortie \n",
    "Voici le shéma qui represente les angle et blablabla:\n",
    "\n",
    "\n",
    "Image\n",
    "\n",
    "\n",
    "Nous cherchons donc à déterminé theta_4 par rapport à theta_2"
   ]
  },
  {
   "cell_type": "markdown",
   "id": "92766bd2",
   "metadata": {},
   "source": [
    "### Equation scalaire de fermeture:\n",
    "\n",
    "vect_OA + vect_AB + vect_BC + vect_CO = vect_nul\n",
    "\n",
    "ce qui implique:\n",
    "\n",
    "vect_OC = vect_OA + vect_AB + vect_BC"
   ]
  },
  {
   "cell_type": "markdown",
   "id": "690a8fc3",
   "metadata": {},
   "source": [
    "### Projection en x et y:"
   ]
  },
  {
   "cell_type": "code",
   "execution_count": 1,
   "id": "aa381169",
   "metadata": {},
   "outputs": [
    {
     "name": "stdout",
     "output_type": "stream",
     "text": [
      "[0.2689431073519 - 2.47087389376925*I, 0.243967645544388 + 2.54511673520939*I, 0.288762520353956 + 2.60295321417517*I, 0.359580102638335 + 2.60050953493981*I, 0.400386311602165 - 2.53939013619793*I, 0.36980095852492 - 2.46689498773832*I, 0.288941009274204 - 2.45766411528304*I, 0.242983555298292 + 2.52265207213652*I, 0.271051571845451 + 2.59169251322617*I, 0.340163917759427 + 2.6080250561383*I]\n",
      "[0.2689431073519 + 2.47087389376925*I, 0.243967645544388 - 2.54511673520939*I, 0.288762520353956 - 2.60295321417517*I, 0.359580102638335 - 2.60050953493981*I, 0.400386311602165 + 2.53939013619793*I, 0.36980095852492 + 2.46689498773832*I, 0.288941009274204 + 2.45766411528304*I, 0.242983555298292 - 2.52265207213652*I, 0.271051571845451 - 2.59169251322617*I, 0.340163917759427 - 2.6080250561383*I]\n"
     ]
    }
   ],
   "source": [
    "from sympy import symbols, Eq, solve, cos, sin\n",
    "import numpy as np\n",
    "import matplotlib.pyplot as plt\n",
    "\n",
    "theta_2 = 1\n",
    "xc = 600\n",
    "yc = 200\n",
    "l2 = 30\n",
    "l3 = 40\n",
    "l4 = 50\n",
    "theta_4 = symbols('theta_4')\n",
    "list_res_1 = []\n",
    "list_res_2 = []\n",
    "\n",
    "for i in range(0,10):\n",
    "    X = xc - l4*cos(theta_2)\n",
    "    Y = yc - l4*sin(theta_2)\n",
    "    \n",
    "    equation = Eq((X-l4*cos(theta_4))**2 + (Y-l4*sin(theta_4))**2, l3**2)\n",
    "    \n",
    "    solution = solve(equation, theta_4)\n",
    "    \n",
    "    solutions_numeriques = [sol.evalf() for sol in solution]\n",
    "    \n",
    "    list_res_1.append(solutions_numeriques[0])\n",
    "    list_res_2.append(solutions_numeriques[1])\n",
    "    theta_2 = theta_2 + 1\n",
    "\n",
    "print(list_res_1)\n",
    "print(list_res_2)\n"
   ]
  },
  {
   "cell_type": "code",
   "execution_count": null,
   "id": "1cc8a723",
   "metadata": {},
   "outputs": [],
   "source": []
  }
 ],
 "metadata": {
  "kernelspec": {
   "display_name": "Python 3 (ipykernel)",
   "language": "python",
   "name": "python3"
  },
  "language_info": {
   "codemirror_mode": {
    "name": "ipython",
    "version": 3
   },
   "file_extension": ".py",
   "mimetype": "text/x-python",
   "name": "python",
   "nbconvert_exporter": "python",
   "pygments_lexer": "ipython3",
   "version": "3.11.5"
  }
 },
 "nbformat": 4,
 "nbformat_minor": 5
}
